{
 "cells": [
  {
   "cell_type": "markdown",
   "id": "7c8aeab3-26f2-4c04-a132-920fa36bdbac",
   "metadata": {},
   "source": [
    "#  **Data Cleaning**"
   ]
  },
  {
   "cell_type": "markdown",
   "id": "a23b3c26-5c94-470c-9c00-48c59a0fd1b1",
   "metadata": {
    "jp-MarkdownHeadingCollapsed": true
   },
   "source": [
    "##  **1. Project Overview**"
   ]
  },
  {
   "cell_type": "markdown",
   "id": "a092f15e-40fd-4732-b69a-732619a9495f",
   "metadata": {},
   "source": [
    "###  Context"
   ]
  },
  {
   "cell_type": "markdown",
   "id": "22b98bf3-1399-4cd8-b212-4a5e327a5064",
   "metadata": {},
   "source": [
    "The real estate market in Ames, Iowa, is diverse, with many factors influencing home values. Buyers, sellers, and investors rely on accurate property valuations to make informed decisions. However, raw housing data often contains missing values, inconsistencies, and extreme outliers, making predictions challenging.\n",
    "\n",
    "The Ames Housing dataset contains information over 2000 house information and over 80 feature columns on different house characteristics from interiors, exteriors, infrastructure and attachments.  "
   ]
  },
  {
   "cell_type": "markdown",
   "id": "bd2166b1-72cb-4d08-a5e5-8224a285f565",
   "metadata": {},
   "source": [
    "### Objectives"
   ]
  },
  {
   "cell_type": "markdown",
   "id": "19914fb5-8ba3-4c3f-9d41-ad93824f61bd",
   "metadata": {},
   "source": [
    "- Handle missing values effectively without introducing bias </br>\n",
    "-  Standardize feature names for better usability </br>\n",
    "-  Detect and manage outliers to improve model stability </br>\n",
    "-  Ensure a structured, well-documented dataset for further analysis </br>"
   ]
  },
  {
   "cell_type": "markdown",
   "id": "9d33fe21-d26c-451c-baa2-773f4b2b344c",
   "metadata": {
    "jp-MarkdownHeadingCollapsed": true
   },
   "source": [
    "## **2. Import Libraries & Load Data**"
   ]
  },
  {
   "cell_type": "code",
   "execution_count": 1,
   "id": "314fb0a3-0def-401f-acbf-ed570ffc9918",
   "metadata": {},
   "outputs": [],
   "source": [
    "# Standard libraries\n",
    "import pandas as pd\n",
    "import numpy as np\n",
    "import matplotlib.pyplot as plt\n",
    "import seaborn as sns"
   ]
  },
  {
   "cell_type": "code",
   "execution_count": 2,
   "id": "27a04052-8774-4305-b279-576fe3ad3e53",
   "metadata": {},
   "outputs": [],
   "source": [
    "ames_df = pd.read_csv('../data/raw_data/ames.csv')"
   ]
  },
  {
   "cell_type": "code",
   "execution_count": 3,
   "id": "57812d60-4d85-46d7-b3a6-195e27fe375a",
   "metadata": {
    "scrolled": true
   },
   "outputs": [
    {
     "name": "stdout",
     "output_type": "stream",
     "text": [
      "<class 'pandas.core.frame.DataFrame'>\n",
      "RangeIndex: 2051 entries, 0 to 2050\n",
      "Data columns (total 81 columns):\n",
      " #   Column           Non-Null Count  Dtype  \n",
      "---  ------           --------------  -----  \n",
      " 0   Id               2051 non-null   int64  \n",
      " 1   PID              2051 non-null   int64  \n",
      " 2   MS SubClass      2051 non-null   int64  \n",
      " 3   MS Zoning        2051 non-null   object \n",
      " 4   Lot Frontage     1721 non-null   float64\n",
      " 5   Lot Area         2051 non-null   int64  \n",
      " 6   Street           2051 non-null   object \n",
      " 7   Alley            140 non-null    object \n",
      " 8   Lot Shape        2051 non-null   object \n",
      " 9   Land Contour     2051 non-null   object \n",
      " 10  Utilities        2051 non-null   object \n",
      " 11  Lot Config       2051 non-null   object \n",
      " 12  Land Slope       2051 non-null   object \n",
      " 13  Neighborhood     2051 non-null   object \n",
      " 14  Condition 1      2051 non-null   object \n",
      " 15  Condition 2      2051 non-null   object \n",
      " 16  Bldg Type        2051 non-null   object \n",
      " 17  House Style      2051 non-null   object \n",
      " 18  Overall Qual     2051 non-null   int64  \n",
      " 19  Overall Cond     2051 non-null   int64  \n",
      " 20  Year Built       2051 non-null   int64  \n",
      " 21  Year Remod/Add   2051 non-null   int64  \n",
      " 22  Roof Style       2051 non-null   object \n",
      " 23  Roof Matl        2051 non-null   object \n",
      " 24  Exterior 1st     2051 non-null   object \n",
      " 25  Exterior 2nd     2051 non-null   object \n",
      " 26  Mas Vnr Type     811 non-null    object \n",
      " 27  Mas Vnr Area     2029 non-null   float64\n",
      " 28  Exter Qual       2051 non-null   object \n",
      " 29  Exter Cond       2051 non-null   object \n",
      " 30  Foundation       2051 non-null   object \n",
      " 31  Bsmt Qual        1996 non-null   object \n",
      " 32  Bsmt Cond        1996 non-null   object \n",
      " 33  Bsmt Exposure    1993 non-null   object \n",
      " 34  BsmtFin Type 1   1996 non-null   object \n",
      " 35  BsmtFin SF 1     2050 non-null   float64\n",
      " 36  BsmtFin Type 2   1995 non-null   object \n",
      " 37  BsmtFin SF 2     2050 non-null   float64\n",
      " 38  Bsmt Unf SF      2050 non-null   float64\n",
      " 39  Total Bsmt SF    2050 non-null   float64\n",
      " 40  Heating          2051 non-null   object \n",
      " 41  Heating QC       2051 non-null   object \n",
      " 42  Central Air      2051 non-null   object \n",
      " 43  Electrical       2051 non-null   object \n",
      " 44  1st Flr SF       2051 non-null   int64  \n",
      " 45  2nd Flr SF       2051 non-null   int64  \n",
      " 46  Low Qual Fin SF  2051 non-null   int64  \n",
      " 47  Gr Liv Area      2051 non-null   int64  \n",
      " 48  Bsmt Full Bath   2049 non-null   float64\n",
      " 49  Bsmt Half Bath   2049 non-null   float64\n",
      " 50  Full Bath        2051 non-null   int64  \n",
      " 51  Half Bath        2051 non-null   int64  \n",
      " 52  Bedroom AbvGr    2051 non-null   int64  \n",
      " 53  Kitchen AbvGr    2051 non-null   int64  \n",
      " 54  Kitchen Qual     2051 non-null   object \n",
      " 55  TotRms AbvGrd    2051 non-null   int64  \n",
      " 56  Functional       2051 non-null   object \n",
      " 57  Fireplaces       2051 non-null   int64  \n",
      " 58  Fireplace Qu     1051 non-null   object \n",
      " 59  Garage Type      1938 non-null   object \n",
      " 60  Garage Yr Blt    1937 non-null   float64\n",
      " 61  Garage Finish    1937 non-null   object \n",
      " 62  Garage Cars      2050 non-null   float64\n",
      " 63  Garage Area      2050 non-null   float64\n",
      " 64  Garage Qual      1937 non-null   object \n",
      " 65  Garage Cond      1937 non-null   object \n",
      " 66  Paved Drive      2051 non-null   object \n",
      " 67  Wood Deck SF     2051 non-null   int64  \n",
      " 68  Open Porch SF    2051 non-null   int64  \n",
      " 69  Enclosed Porch   2051 non-null   int64  \n",
      " 70  3Ssn Porch       2051 non-null   int64  \n",
      " 71  Screen Porch     2051 non-null   int64  \n",
      " 72  Pool Area        2051 non-null   int64  \n",
      " 73  Pool QC          9 non-null      object \n",
      " 74  Fence            400 non-null    object \n",
      " 75  Misc Feature     65 non-null     object \n",
      " 76  Misc Val         2051 non-null   int64  \n",
      " 77  Mo Sold          2051 non-null   int64  \n",
      " 78  Yr Sold          2051 non-null   int64  \n",
      " 79  Sale Type        2051 non-null   object \n",
      " 80  SalePrice        2051 non-null   int64  \n",
      "dtypes: float64(11), int64(28), object(42)\n",
      "memory usage: 1.3+ MB\n"
     ]
    }
   ],
   "source": [
    "ames_df.info()"
   ]
  },
  {
   "cell_type": "code",
   "execution_count": 4,
   "id": "b246166c-3944-45bb-90ad-3139bc071e30",
   "metadata": {},
   "outputs": [
    {
     "data": {
      "text/html": [
       "<div>\n",
       "<style scoped>\n",
       "    .dataframe tbody tr th:only-of-type {\n",
       "        vertical-align: middle;\n",
       "    }\n",
       "\n",
       "    .dataframe tbody tr th {\n",
       "        vertical-align: top;\n",
       "    }\n",
       "\n",
       "    .dataframe thead th {\n",
       "        text-align: right;\n",
       "    }\n",
       "</style>\n",
       "<table border=\"1\" class=\"dataframe\">\n",
       "  <thead>\n",
       "    <tr style=\"text-align: right;\">\n",
       "      <th></th>\n",
       "      <th>Id</th>\n",
       "      <th>PID</th>\n",
       "      <th>MS SubClass</th>\n",
       "      <th>MS Zoning</th>\n",
       "      <th>Lot Frontage</th>\n",
       "      <th>Lot Area</th>\n",
       "      <th>Street</th>\n",
       "      <th>Alley</th>\n",
       "      <th>Lot Shape</th>\n",
       "      <th>Land Contour</th>\n",
       "      <th>...</th>\n",
       "      <th>Screen Porch</th>\n",
       "      <th>Pool Area</th>\n",
       "      <th>Pool QC</th>\n",
       "      <th>Fence</th>\n",
       "      <th>Misc Feature</th>\n",
       "      <th>Misc Val</th>\n",
       "      <th>Mo Sold</th>\n",
       "      <th>Yr Sold</th>\n",
       "      <th>Sale Type</th>\n",
       "      <th>SalePrice</th>\n",
       "    </tr>\n",
       "  </thead>\n",
       "  <tbody>\n",
       "    <tr>\n",
       "      <th>0</th>\n",
       "      <td>109</td>\n",
       "      <td>533352170</td>\n",
       "      <td>60</td>\n",
       "      <td>RL</td>\n",
       "      <td>NaN</td>\n",
       "      <td>13517</td>\n",
       "      <td>Pave</td>\n",
       "      <td>NaN</td>\n",
       "      <td>IR1</td>\n",
       "      <td>Lvl</td>\n",
       "      <td>...</td>\n",
       "      <td>0</td>\n",
       "      <td>0</td>\n",
       "      <td>NaN</td>\n",
       "      <td>NaN</td>\n",
       "      <td>NaN</td>\n",
       "      <td>0</td>\n",
       "      <td>3</td>\n",
       "      <td>2010</td>\n",
       "      <td>WD</td>\n",
       "      <td>130500</td>\n",
       "    </tr>\n",
       "    <tr>\n",
       "      <th>1</th>\n",
       "      <td>544</td>\n",
       "      <td>531379050</td>\n",
       "      <td>60</td>\n",
       "      <td>RL</td>\n",
       "      <td>43.0</td>\n",
       "      <td>11492</td>\n",
       "      <td>Pave</td>\n",
       "      <td>NaN</td>\n",
       "      <td>IR1</td>\n",
       "      <td>Lvl</td>\n",
       "      <td>...</td>\n",
       "      <td>0</td>\n",
       "      <td>0</td>\n",
       "      <td>NaN</td>\n",
       "      <td>NaN</td>\n",
       "      <td>NaN</td>\n",
       "      <td>0</td>\n",
       "      <td>4</td>\n",
       "      <td>2009</td>\n",
       "      <td>WD</td>\n",
       "      <td>220000</td>\n",
       "    </tr>\n",
       "    <tr>\n",
       "      <th>2</th>\n",
       "      <td>153</td>\n",
       "      <td>535304180</td>\n",
       "      <td>20</td>\n",
       "      <td>RL</td>\n",
       "      <td>68.0</td>\n",
       "      <td>7922</td>\n",
       "      <td>Pave</td>\n",
       "      <td>NaN</td>\n",
       "      <td>Reg</td>\n",
       "      <td>Lvl</td>\n",
       "      <td>...</td>\n",
       "      <td>0</td>\n",
       "      <td>0</td>\n",
       "      <td>NaN</td>\n",
       "      <td>NaN</td>\n",
       "      <td>NaN</td>\n",
       "      <td>0</td>\n",
       "      <td>1</td>\n",
       "      <td>2010</td>\n",
       "      <td>WD</td>\n",
       "      <td>109000</td>\n",
       "    </tr>\n",
       "    <tr>\n",
       "      <th>3</th>\n",
       "      <td>318</td>\n",
       "      <td>916386060</td>\n",
       "      <td>60</td>\n",
       "      <td>RL</td>\n",
       "      <td>73.0</td>\n",
       "      <td>9802</td>\n",
       "      <td>Pave</td>\n",
       "      <td>NaN</td>\n",
       "      <td>Reg</td>\n",
       "      <td>Lvl</td>\n",
       "      <td>...</td>\n",
       "      <td>0</td>\n",
       "      <td>0</td>\n",
       "      <td>NaN</td>\n",
       "      <td>NaN</td>\n",
       "      <td>NaN</td>\n",
       "      <td>0</td>\n",
       "      <td>4</td>\n",
       "      <td>2010</td>\n",
       "      <td>WD</td>\n",
       "      <td>174000</td>\n",
       "    </tr>\n",
       "    <tr>\n",
       "      <th>4</th>\n",
       "      <td>255</td>\n",
       "      <td>906425045</td>\n",
       "      <td>50</td>\n",
       "      <td>RL</td>\n",
       "      <td>82.0</td>\n",
       "      <td>14235</td>\n",
       "      <td>Pave</td>\n",
       "      <td>NaN</td>\n",
       "      <td>IR1</td>\n",
       "      <td>Lvl</td>\n",
       "      <td>...</td>\n",
       "      <td>0</td>\n",
       "      <td>0</td>\n",
       "      <td>NaN</td>\n",
       "      <td>NaN</td>\n",
       "      <td>NaN</td>\n",
       "      <td>0</td>\n",
       "      <td>3</td>\n",
       "      <td>2010</td>\n",
       "      <td>WD</td>\n",
       "      <td>138500</td>\n",
       "    </tr>\n",
       "  </tbody>\n",
       "</table>\n",
       "<p>5 rows × 81 columns</p>\n",
       "</div>"
      ],
      "text/plain": [
       "    Id        PID  MS SubClass MS Zoning  Lot Frontage  Lot Area Street Alley  \\\n",
       "0  109  533352170           60        RL           NaN     13517   Pave   NaN   \n",
       "1  544  531379050           60        RL          43.0     11492   Pave   NaN   \n",
       "2  153  535304180           20        RL          68.0      7922   Pave   NaN   \n",
       "3  318  916386060           60        RL          73.0      9802   Pave   NaN   \n",
       "4  255  906425045           50        RL          82.0     14235   Pave   NaN   \n",
       "\n",
       "  Lot Shape Land Contour  ... Screen Porch Pool Area Pool QC Fence  \\\n",
       "0       IR1          Lvl  ...            0         0     NaN   NaN   \n",
       "1       IR1          Lvl  ...            0         0     NaN   NaN   \n",
       "2       Reg          Lvl  ...            0         0     NaN   NaN   \n",
       "3       Reg          Lvl  ...            0         0     NaN   NaN   \n",
       "4       IR1          Lvl  ...            0         0     NaN   NaN   \n",
       "\n",
       "  Misc Feature Misc Val Mo Sold Yr Sold  Sale Type  SalePrice  \n",
       "0          NaN        0       3    2010        WD      130500  \n",
       "1          NaN        0       4    2009        WD      220000  \n",
       "2          NaN        0       1    2010        WD      109000  \n",
       "3          NaN        0       4    2010        WD      174000  \n",
       "4          NaN        0       3    2010        WD      138500  \n",
       "\n",
       "[5 rows x 81 columns]"
      ]
     },
     "execution_count": 4,
     "metadata": {},
     "output_type": "execute_result"
    }
   ],
   "source": [
    "ames_df.head()"
   ]
  },
  {
   "cell_type": "markdown",
   "id": "0036ea71-2b4d-4888-a782-c956c6bf54db",
   "metadata": {
    "jp-MarkdownHeadingCollapsed": true
   },
   "source": [
    "## **3. Dataset Dictionary**"
   ]
  },
  {
   "cell_type": "markdown",
   "id": "a25ef29f-f8ff-434a-93ad-b1d8ec666c3a",
   "metadata": {},
   "source": [
    "| Feature            | Type     | Description | Identifier |\n",
    "|--------------------|---------|-------------|-------------------|\n",
    "| Id                | int64   | Unique identifier for each property. | id |\n",
    "| PID               | int64   | Parcel identification number. | pid |\n",
    "| MS SubClass       | int64   | Identifies the type of dwelling involved in the sale. | ms_subclass |\n",
    "| MS Zoning         | object  | General zoning classification of the sale. | ms_zoning |\n",
    "| Lot Frontage      | float64 | Linear feet of street connected to property. | lot_frontage |\n",
    "| Lot Area         | int64   | Lot size in square feet. | lot_area |\n",
    "| Street           | object  | Type of road access to property. | street |\n",
    "| Alley           | object  | Type of alley access to property. | alley |\n",
    "| Lot Shape        | object  | General shape of property. | lot_shape |\n",
    "| Land Contour     | object  | Flatness of the property. | land_contour |\n",
    "| Utilities        | object  | Type of utilities available. | utilities |\n",
    "| Lot Config       | object  | Lot configuration. | lot_config |\n",
    "| Land Slope       | object  | Slope of property. | land_slope |\n",
    "| Neighborhood     | object  | Physical locations within Ames city limits. | neighborhood |\n",
    "| Condition 1      | object  | Proximity to various conditions. | condition_1 |\n",
    "| Condition 2      | object  | Proximity to additional conditions (if applicable). | condition_2 |\n",
    "| Bldg Type        | object  | Type of dwelling. | bldg_type |\n",
    "| House Style      | object  | Style of dwelling. | house_style |\n",
    "| Overall Qual     | int64   | Rates overall material and finish of the house (1-10). | overall_qual |\n",
    "| Overall Cond     | int64   | Rates overall condition of the house (1-10). | overall_cond |\n",
    "| Year Built       | int64   | Original construction year. | year_built |\n",
    "| Year Remod/Add   | int64   | Remodel year (same as construction year if no remodeling). | year_remod_add |\n",
    "| Roof Style       | object  | Type of roof. | roof_style |\n",
    "| Roof Matl        | object  | Roof material. | roof_matl |\n",
    "| Exterior 1st     | object  | Exterior covering on house. | exterior_1st |\n",
    "| Exterior 2nd     | object  | Exterior covering on house (if multiple materials). | exterior_2nd |\n",
    "| Mas Vnr Type     | object  | Masonry veneer type. | mas_vnr_type |\n",
    "| Mas Vnr Area     | float64 | Masonry veneer area in square feet. | mas_vnr_area |\n",
    "| Exter Qual       | object  | Evaluates the quality of the material on the exterior. | exter_qual |\n",
    "| Exter Cond       | object  | Evaluates the condition of the material on the exterior. | exter_cond |\n",
    "| Foundation       | object  | Type of foundation. | foundation |\n",
    "| Bsmt Qual        | object  | Evaluates the height of the basement. | bsmt_qual |\n",
    "| Bsmt Cond        | object  | Evaluates the general condition of the basement. | bsmt_cond |\n",
    "| Bsmt Exposure    | object  | Walkout or garden level basement walls. | bsmt_exposure |\n",
    "| BsmtFin Type 1   | object  | Rating of basement finished area. | bsmtfin_type_1 |\n",
    "| BsmtFin SF 1     | float64 | Type 1 finished square feet. | bsmtfin_sf_1 |\n",
    "| BsmtFin Type 2   | object  | Rating of basement finished area (if multiple types). | bsmtfin_type_2 |\n",
    "| BsmtFin SF 2     | float64 | Type 2 finished square feet. | bsmtfin_sf_2 |\n",
    "| Bsmt Unf SF      | float64 | Unfinished square feet of basement area. | bsmt_unf_sf |\n",
    "| Total Bsmt SF    | float64 | Total square feet of basement area. | total_bsmt_sf |\n",
    "| Heating          | object  | Type of heating. | heating |\n",
    "| Heating QC       | object  | Heating quality and condition. | heating_qc |\n",
    "| Central Air      | object  | Central air conditioning (Y = Yes, N = No). | central_air |\n",
    "| Electrical       | object  | Electrical system. | electrical |\n",
    "| 1st Flr SF       | int64   | First floor square feet. | first_flr_sf |\n",
    "| 2nd Flr SF       | int64   | Second floor square feet. | second_flr_sf |\n",
    "| Low Qual Fin SF  | int64   | Low quality finished square feet (all floors). | low_qual_fin_sf |\n",
    "| Gr Liv Area      | int64   | Above grade (ground) living area square feet. | gr_liv_area |\n",
    "| Bsmt Full Bath   | float64 | Basement full bathrooms. | bsmt_full_bath |\n",
    "| Bsmt Half Bath   | float64 | Basement half bathrooms. | bsmt_half_bath |\n",
    "| Full Bath        | int64   | Full bathrooms above grade. | full_bath |\n",
    "| Half Bath        | int64   | Half bathrooms above grade. | half_bath |\n",
    "| Bedroom AbvGr    | int64   | Number of bedrooms above basement level. | bedroom_abvgr |\n",
    "| Kitchen AbvGr    | int64   | Number of kitchens. | kitchen_abvgr |\n",
    "| Kitchen Qual     | object  | Kitchen quality. | kitchen_qual |\n",
    "| TotRms AbvGrd    | int64   | Total rooms above grade (excluding bathrooms). | totrms_abvgrd |\n",
    "| Functional       | object  | Home functionality rating. | functional |\n",
    "| Fireplaces       | int64   | Number of fireplaces. | fireplaces |\n",
    "| Fireplace Qu     | object  | Fireplace quality. | fireplace_qu |\n",
    "| Garage Type      | object  | Garage location. | garage_type |\n",
    "| Garage Yr Blt    | float64 | Year garage was built. | garage_yr_blt |\n",
    "| Garage Finish    | object  | Interior finish of the garage. | garage_finish |\n",
    "| Garage Cars      | float64 | Size of garage in car capacity. | garage_cars |\n",
    "| Garage Area      | float64 | Size of garage in square feet. | garage_area |\n",
    "| Garage Qual      | object  | Garage quality. | garage_qual |\n",
    "| Garage Cond      | object  | Garage condition. | garage_cond |\n",
    "| Paved Drive      | object  | Paved driveway (Y = Yes, P = Partial, N = No). | paved_drive |\n",
    "| Wood Deck SF     | int64   | Wood deck area in square feet. | wood_deck_sf |\n",
    "| Open Porch SF    | int64   | Open porch area in square feet. | open_porch_sf |\n",
    "| Enclosed Porch   | int64   | Enclosed porch area in square feet. | enclosed_porch |\n",
    "| 3Ssn Porch       | int64   | Three-season porch area in square feet. | three_ssn_porch |\n",
    "| Screen Porch     | int64   | Screen porch area in square feet. | screen_porch |\n",
    "| Pool Area        | int64   | Pool area in square feet. | pool_area |\n",
    "| Pool QC         | object  | Pool quality. | pool_qc |\n",
    "| Fence           | object  | Fence quality. | fence |\n",
    "| Misc Feature     | object  | Miscellaneous feature not covered in other categories. | misc_feature |\n",
    "| Misc Val        | int64   | Value of miscellaneous feature. | misc_val |\n",
    "| Mo Sold         | int64   | Month sold (MM). | mo_sold |\n",
    "| Yr Sold         | int64   | Year sold (YYYY). | yr_sold |\n",
    "| Sale Type       | object  | Type of sale. | sale_type |\n",
    "| SalePrice       | int64   | Final price of the home. | sale_price |"
   ]
  },
  {
   "cell_type": "markdown",
   "id": "fa22471c-575c-42b2-8451-0335b55d2630",
   "metadata": {
    "jp-MarkdownHeadingCollapsed": true
   },
   "source": [
    "## **4. Standarizing Column Names**"
   ]
  },
  {
   "cell_type": "code",
   "execution_count": 5,
   "id": "4a76031c-1ef3-4969-b7fd-38d81c564b7c",
   "metadata": {},
   "outputs": [],
   "source": [
    "#Change both train.csv and test.csv to follow python convention name format.\n",
    "ames_df.rename(columns={\n",
    "    'Id': 'id',\n",
    "    'PID': 'pid',\n",
    "    'MS SubClass': 'ms_subclass',\n",
    "    'MS Zoning': 'ms_zoning',\n",
    "    'Lot Frontage': 'lot_frontage',\n",
    "    'Lot Area': 'lot_area',\n",
    "    'Street': 'street',\n",
    "    'Alley': 'alley',\n",
    "    'Lot Shape': 'lot_shape',\n",
    "    'Land Contour': 'land_contour',\n",
    "    'Utilities': 'utilities',\n",
    "    'Lot Config': 'lot_config',\n",
    "    'Land Slope': 'land_slope',\n",
    "    'Neighborhood': 'neighborhood',\n",
    "    'Condition 1': 'condition_1',\n",
    "    'Condition 2': 'condition_2',\n",
    "    'Bldg Type': 'bldg_type',\n",
    "    'House Style': 'house_style',\n",
    "    'Overall Qual': 'overall_qual',\n",
    "    'Overall Cond': 'overall_cond',\n",
    "    'Year Built': 'year_built',\n",
    "    'Year Remod/Add': 'year_remod_add',\n",
    "    'Roof Style': 'roof_style',\n",
    "    'Roof Matl': 'roof_matl',\n",
    "    'Exterior 1st': 'exterior_1st',\n",
    "    'Exterior 2nd': 'exterior_2nd',\n",
    "    'Mas Vnr Type': 'mas_vnr_type',\n",
    "    'Mas Vnr Area': 'mas_vnr_area',\n",
    "    'Exter Qual': 'exter_qual',\n",
    "    'Exter Cond': 'exter_cond',\n",
    "    'Foundation': 'foundation',\n",
    "    'Bsmt Qual': 'bsmt_qual',\n",
    "    'Bsmt Cond': 'bsmt_cond',\n",
    "    'Bsmt Exposure': 'bsmt_exposure',\n",
    "    'BsmtFin Type 1': 'bsmtfin_type_1',\n",
    "    'BsmtFin SF 1': 'bsmtfin_sf_1',\n",
    "    'BsmtFin Type 2': 'bsmtfin_type_2',\n",
    "    'BsmtFin SF 2': 'bsmtfin_sf_2',\n",
    "    'Bsmt Unf SF': 'bsmt_unf_sf',\n",
    "    'Total Bsmt SF': 'total_bsmt_sf',\n",
    "    'Heating': 'heating',\n",
    "    'Heating QC': 'heating_qc',\n",
    "    'Central Air': 'central_air',\n",
    "    'Electrical': 'electrical',\n",
    "    '1st Flr SF': 'first_flr_sf',\n",
    "    '2nd Flr SF': 'second_flr_sf',\n",
    "    'Low Qual Fin SF': 'low_qual_fin_sf',\n",
    "    'Gr Liv Area': 'gr_liv_area',\n",
    "    'Bsmt Full Bath': 'bsmt_full_bath',\n",
    "    'Bsmt Half Bath': 'bsmt_half_bath',\n",
    "    'Full Bath': 'full_bath',\n",
    "    'Half Bath': 'half_bath',\n",
    "    'Bedroom AbvGr': 'bedroom_abvgr',\n",
    "    'Kitchen AbvGr': 'kitchen_abvgr',\n",
    "    'Kitchen Qual': 'kitchen_qual',\n",
    "    'TotRms AbvGrd': 'totrms_abvgrd',\n",
    "    'Functional': 'functional',\n",
    "    'Fireplaces': 'fireplaces',\n",
    "    'Fireplace Qu': 'fireplace_qu',\n",
    "    'Garage Type': 'garage_type',\n",
    "    'Garage Yr Blt': 'garage_yr_blt',\n",
    "    'Garage Finish': 'garage_finish',\n",
    "    'Garage Cars': 'garage_cars',\n",
    "    'Garage Area': 'garage_area',\n",
    "    'Garage Qual': 'garage_qual',\n",
    "    'Garage Cond': 'garage_cond',\n",
    "    'Paved Drive': 'paved_drive',\n",
    "    'Wood Deck SF': 'wood_deck_sf',\n",
    "    'Open Porch SF': 'open_porch_sf',\n",
    "    'Enclosed Porch': 'enclosed_porch',\n",
    "    '3Ssn Porch': 'three_ssn_porch',\n",
    "    'Screen Porch': 'screen_porch',\n",
    "    'Pool Area': 'pool_area',\n",
    "    'Pool QC': 'pool_qc',\n",
    "    'Fence': 'fence',\n",
    "    'Misc Feature': 'misc_feature',\n",
    "    'Misc Val': 'misc_val',\n",
    "    'Mo Sold': 'mo_sold',\n",
    "    'Yr Sold': 'yr_sold',\n",
    "    'Sale Type': 'sale_type',\n",
    "    'SalePrice': 'sale_price'\n",
    "}, inplace=True)"
   ]
  },
  {
   "cell_type": "markdown",
   "id": "96ad23cb-763d-476b-8a70-ae578964a30a",
   "metadata": {
    "jp-MarkdownHeadingCollapsed": true
   },
   "source": [
    "## **5. Handling Missing Values**"
   ]
  },
  {
   "cell_type": "markdown",
   "id": "81a87b28-893e-4634-8be9-1c4c5165c6a9",
   "metadata": {
    "jp-MarkdownHeadingCollapsed": true
   },
   "source": [
    "### 5.1 Identifying Missing Data"
   ]
  },
  {
   "cell_type": "code",
   "execution_count": 6,
   "id": "d6d78064-ab21-437d-9406-9491e067af4d",
   "metadata": {},
   "outputs": [
    {
     "name": "stdout",
     "output_type": "stream",
     "text": [
      "Columns with Missing Values in Training dataset:\n",
      "Index(['lot_frontage', 'alley', 'mas_vnr_type', 'mas_vnr_area', 'bsmt_qual',\n",
      "       'bsmt_cond', 'bsmt_exposure', 'bsmtfin_type_1', 'bsmtfin_sf_1',\n",
      "       'bsmtfin_type_2', 'bsmtfin_sf_2', 'bsmt_unf_sf', 'total_bsmt_sf',\n",
      "       'bsmt_full_bath', 'bsmt_half_bath', 'fireplace_qu', 'garage_type',\n",
      "       'garage_yr_blt', 'garage_finish', 'garage_cars', 'garage_area',\n",
      "       'garage_qual', 'garage_cond', 'pool_qc', 'fence', 'misc_feature'],\n",
      "      dtype='object')\n"
     ]
    }
   ],
   "source": [
    "# Check for columns with NaN values and their count\n",
    "nan_counts = ames_df.isna().sum()\n",
    "\n",
    "# Filter only columns that have missing values\n",
    "nan_columns = nan_counts[nan_counts > 0].index\n",
    "\n",
    "# Display columns with NaN values and their count\n",
    "print(\"Columns with Missing Values in Training dataset:\")\n",
    "print(nan_columns)"
   ]
  },
  {
   "cell_type": "code",
   "execution_count": 7,
   "id": "8b1a9b66-754a-4f4c-9af2-4414351f68a4",
   "metadata": {},
   "outputs": [
    {
     "data": {
      "image/png": "[encoded data removed]",
      "text/plain": [
       "<Figure size 1200x800 with 1 Axes>"
      ]
     },
     "metadata": {},
     "output_type": "display_data"
    }
   ],
   "source": [
    "# Count missing values\n",
    "missing_values = ames_df.isna().sum()\n",
    "missing_values = missing_values[missing_values > 50].sort_values(ascending=False)\n",
    "# Visualize missing values\n",
    "plt.figure(figsize=(12, 8))\n",
    "sns.barplot(y=missing_values.index, x=missing_values.values)  # Swap x and y\n",
    "\n",
    "plt.xlabel(\"Number of Missing Values\")  # Label x-axis\n",
    "plt.ylabel(\"Features\")  # Label y-axis\n",
    "plt.title(\"Features With Many Missing Values\")  # Title\n",
    "plt.show()"
   ]
  },
  {
   "cell_type": "markdown",
   "id": "db97101f-4252-4da5-9cd4-f49c37596ad8",
   "metadata": {},
   "source": [
    "- Some features have few missing values.\n",
    "- Many of these features with missing values appear to be interconnected, most giving information about the basement and garage."
   ]
  },
  {
   "cell_type": "code",
   "execution_count": 8,
   "id": "7e3794c8-9387-4646-98aa-2b5ceec30a4f",
   "metadata": {},
   "outputs": [],
   "source": [
    "# Separate numerical and categorical columns\n",
    "numerical_cols = ames_df[nan_columns].select_dtypes(include=['number']).columns\n",
    "categorical_cols = ames_df[nan_columns].select_dtypes(exclude=['number']).columns"
   ]
  },
  {
   "cell_type": "code",
   "execution_count": 9,
   "id": "f7703b7f-2f93-44e6-8531-2b111d6e2bd5",
   "metadata": {},
   "outputs": [
    {
     "data": {
      "text/plain": [
       "Index(['lot_frontage', 'mas_vnr_area', 'bsmtfin_sf_1', 'bsmtfin_sf_2',\n",
       "       'bsmt_unf_sf', 'total_bsmt_sf', 'bsmt_full_bath', 'bsmt_half_bath',\n",
       "       'garage_yr_blt', 'garage_cars', 'garage_area'],\n",
       "      dtype='object')"
      ]
     },
     "execution_count": 9,
     "metadata": {},
     "output_type": "execute_result"
    }
   ],
   "source": [
    "numerical_cols"
   ]
  },
  {
   "cell_type": "code",
   "execution_count": 10,
   "id": "8c43a6df-5535-412c-adcc-32412c15c15b",
   "metadata": {},
   "outputs": [
    {
     "data": {
      "text/plain": [
       "Index(['alley', 'mas_vnr_type', 'bsmt_qual', 'bsmt_cond', 'bsmt_exposure',\n",
       "       'bsmtfin_type_1', 'bsmtfin_type_2', 'fireplace_qu', 'garage_type',\n",
       "       'garage_finish', 'garage_qual', 'garage_cond', 'pool_qc', 'fence',\n",
       "       'misc_feature'],\n",
       "      dtype='object')"
      ]
     },
     "execution_count": 10,
     "metadata": {},
     "output_type": "execute_result"
    }
   ],
   "source": [
    "categorical_cols"
   ]
  },
  {
   "cell_type": "code",
   "execution_count": 11,
   "id": "b27d51ab-f648-4680-a394-05cec4f5632f",
   "metadata": {
    "scrolled": true
   },
   "outputs": [
    {
     "name": "stdout",
     "output_type": "stream",
     "text": [
      "Number of entries and number of NaN for alley:\n",
      "\n",
      "There are 1911 missing values in the data set. This represents 93.17% of the total rows.\n",
      "--------------------------------------------------\n",
      "Number of entries and number of NaN for mas_vnr_type:\n",
      "\n",
      "There are 1240 missing values in the data set. This represents 60.46% of the total rows.\n",
      "--------------------------------------------------\n",
      "Number of entries and number of NaN for bsmt_qual:\n",
      "\n",
      "There are 55 missing values in the data set. This represents 2.68% of the total rows.\n",
      "--------------------------------------------------\n",
      "Number of entries and number of NaN for bsmt_cond:\n",
      "\n",
      "There are 55 missing values in the data set. This represents 2.68% of the total rows.\n",
      "--------------------------------------------------\n",
      "Number of entries and number of NaN for bsmt_exposure:\n",
      "\n",
      "There are 58 missing values in the data set. This represents 2.83% of the total rows.\n",
      "--------------------------------------------------\n",
      "Number of entries and number of NaN for bsmtfin_type_1:\n",
      "\n",
      "There are 55 missing values in the data set. This represents 2.68% of the total rows.\n",
      "--------------------------------------------------\n",
      "Number of entries and number of NaN for bsmtfin_type_2:\n",
      "\n",
      "There are 56 missing values in the data set. This represents 2.73% of the total rows.\n",
      "--------------------------------------------------\n",
      "Number of entries and number of NaN for fireplace_qu:\n",
      "\n",
      "There are 1000 missing values in the data set. This represents 48.76% of the total rows.\n",
      "--------------------------------------------------\n",
      "Number of entries and number of NaN for garage_type:\n",
      "\n",
      "There are 113 missing values in the data set. This represents 5.51% of the total rows.\n",
      "--------------------------------------------------\n",
      "Number of entries and number of NaN for garage_finish:\n",
      "\n",
      "There are 114 missing values in the data set. This represents 5.56% of the total rows.\n",
      "--------------------------------------------------\n",
      "Number of entries and number of NaN for garage_qual:\n",
      "\n",
      "There are 114 missing values in the data set. This represents 5.56% of the total rows.\n",
      "--------------------------------------------------\n",
      "Number of entries and number of NaN for garage_cond:\n",
      "\n",
      "There are 114 missing values in the data set. This represents 5.56% of the total rows.\n",
      "--------------------------------------------------\n",
      "Number of entries and number of NaN for pool_qc:\n",
      "\n",
      "There are 2042 missing values in the data set. This represents 99.56% of the total rows.\n",
      "--------------------------------------------------\n",
      "Number of entries and number of NaN for fence:\n",
      "\n",
      "There are 1651 missing values in the data set. This represents 80.50% of the total rows.\n",
      "--------------------------------------------------\n",
      "Number of entries and number of NaN for misc_feature:\n",
      "\n",
      "There are 1986 missing values in the data set. This represents 96.83% of the total rows.\n",
      "--------------------------------------------------\n"
     ]
    }
   ],
   "source": [
    "for col in categorical_cols:\n",
    "    print(f'Number of entries and number of NaN for {col}:\\n')\n",
    "    print(f'There are {ames_df[col].isna().sum()} missing values in the data set. This represents {ames_df[col].isna().sum()/ames_df.shape[0]:.2%} of the total rows.')\n",
    "    print('-' * 50)  # Draws -----"
   ]
  },
  {
   "cell_type": "code",
   "execution_count": 12,
   "id": "8e62f6cf-5070-46ea-b432-a8c9c7feaad5",
   "metadata": {
    "scrolled": true
   },
   "outputs": [
    {
     "name": "stdout",
     "output_type": "stream",
     "text": [
      "Number of entries and number of NaN for lot_frontage:\n",
      "\n",
      "There are 330 missing values in the data set. This represents 16.09% of the total rows.\n",
      "--------------------------------------------------\n",
      "Number of entries and number of NaN for mas_vnr_area:\n",
      "\n",
      "There are 22 missing values in the data set. This represents 1.07% of the total rows.\n",
      "--------------------------------------------------\n",
      "Number of entries and number of NaN for bsmtfin_sf_1:\n",
      "\n",
      "There are 1 missing values in the data set. This represents 0.05% of the total rows.\n",
      "--------------------------------------------------\n",
      "Number of entries and number of NaN for bsmtfin_sf_2:\n",
      "\n",
      "There are 1 missing values in the data set. This represents 0.05% of the total rows.\n",
      "--------------------------------------------------\n",
      "Number of entries and number of NaN for bsmt_unf_sf:\n",
      "\n",
      "There are 1 missing values in the data set. This represents 0.05% of the total rows.\n",
      "--------------------------------------------------\n",
      "Number of entries and number of NaN for total_bsmt_sf:\n",
      "\n",
      "There are 1 missing values in the data set. This represents 0.05% of the total rows.\n",
      "--------------------------------------------------\n",
      "Number of entries and number of NaN for bsmt_full_bath:\n",
      "\n",
      "There are 2 missing values in the data set. This represents 0.10% of the total rows.\n",
      "--------------------------------------------------\n",
      "Number of entries and number of NaN for bsmt_half_bath:\n",
      "\n",
      "There are 2 missing values in the data set. This represents 0.10% of the total rows.\n",
      "--------------------------------------------------\n",
      "Number of entries and number of NaN for garage_yr_blt:\n",
      "\n",
      "There are 114 missing values in the data set. This represents 5.56% of the total rows.\n",
      "--------------------------------------------------\n",
      "Number of entries and number of NaN for garage_cars:\n",
      "\n",
      "There are 1 missing values in the data set. This represents 0.05% of the total rows.\n",
      "--------------------------------------------------\n",
      "Number of entries and number of NaN for garage_area:\n",
      "\n",
      "There are 1 missing values in the data set. This represents 0.05% of the total rows.\n",
      "--------------------------------------------------\n"
     ]
    }
   ],
   "source": [
    "for col in numerical_cols:\n",
    "    print(f'Number of entries and number of NaN for {col}:\\n')\n",
    "    print(f'There are {ames_df[col].isna().sum()} missing values in the data set. This represents {ames_df[col].isna().sum()/ames_df.shape[0]:.2%} of the total rows.')\n",
    "    print('-' * 50)  # Draws -----"
   ]
  },
  {
   "cell_type": "markdown",
   "id": "693dfe93-2006-48d3-98db-58f3500e6f2a",
   "metadata": {
    "jp-MarkdownHeadingCollapsed": true
   },
   "source": [
    "### 5.2 Handling Missing Values in Categorical Features"
   ]
  },
  {
   "cell_type": "code",
   "execution_count": 13,
   "id": "3f43c8b1-0c24-4bd3-95eb-2fc33386aeff",
   "metadata": {},
   "outputs": [
    {
     "data": {
      "text/plain": [
       "Index(['alley', 'mas_vnr_type', 'bsmt_qual', 'bsmt_cond', 'bsmt_exposure',\n",
       "       'bsmtfin_type_1', 'bsmtfin_type_2', 'fireplace_qu', 'garage_type',\n",
       "       'garage_finish', 'garage_qual', 'garage_cond', 'pool_qc', 'fence',\n",
       "       'misc_feature'],\n",
       "      dtype='object')"
      ]
     },
     "execution_count": 13,
     "metadata": {},
     "output_type": "execute_result"
    }
   ],
   "source": [
    "categorical_cols"
   ]
  },
  {
   "cell_type": "markdown",
   "id": "b4fc3696-371c-49aa-a2da-7c878652ca08",
   "metadata": {},
   "source": [
    "There are three possible interpretations for these missing values: they could be errors, or they might indicate that the house lacks the corresponding feature.\n",
    "\n",
    "- If they are errors, one approach is to impute the mode for each category.\n",
    "- If they signify a missing feature, a possible solution is to assign a new category such as **'None'** or **'NA'**.\n",
    "\n",
    "Additionally, several numerical features related to the garage and basement contain **zero values**. This suggests that the missing values likely indicate that these houses do not have these features.\n"
   ]
  },
  {
   "cell_type": "code",
   "execution_count": 14,
   "id": "d9b97bed-3fb7-44bf-8e79-383b639691f5",
   "metadata": {},
   "outputs": [],
   "source": [
    "# Replace NaN values with 'NA'\n",
    "ames_df[categorical_cols] = ames_df[categorical_cols].fillna(\"Not Applicable\").copy()"
   ]
  },
  {
   "cell_type": "markdown",
   "id": "295a3e95-d8b8-42ef-bbb7-88c74b706e9c",
   "metadata": {
    "jp-MarkdownHeadingCollapsed": true
   },
   "source": [
    "### 5.3 Handling Missing Values in Numerical Features"
   ]
  },
  {
   "cell_type": "code",
   "execution_count": 15,
   "id": "edb44f0e-47ab-463f-b479-25bbbe9c43bd",
   "metadata": {},
   "outputs": [
    {
     "data": {
      "text/plain": [
       "Index(['lot_frontage', 'mas_vnr_area', 'bsmtfin_sf_1', 'bsmtfin_sf_2',\n",
       "       'bsmt_unf_sf', 'total_bsmt_sf', 'bsmt_full_bath', 'bsmt_half_bath',\n",
       "       'garage_yr_blt', 'garage_cars', 'garage_area'],\n",
       "      dtype='object')"
      ]
     },
     "execution_count": 15,
     "metadata": {},
     "output_type": "execute_result"
    }
   ],
   "source": [
    "numerical_cols"
   ]
  },
  {
   "cell_type": "code",
   "execution_count": 16,
   "id": "3c6e3a9d-0a89-4dd3-b4a4-8efed1af3316",
   "metadata": {
    "scrolled": true
   },
   "outputs": [
    {
     "data": {
      "text/plain": [
       "count    1721.000000\n",
       "mean       69.055200\n",
       "std        23.260653\n",
       "min        21.000000\n",
       "25%        58.000000\n",
       "50%        68.000000\n",
       "75%        80.000000\n",
       "max       313.000000\n",
       "Name: lot_frontage, dtype: float64"
      ]
     },
     "execution_count": 16,
     "metadata": {},
     "output_type": "execute_result"
    }
   ],
   "source": [
    "ames_df['lot_frontage'].describe()"
   ]
  },
  {
   "cell_type": "code",
   "execution_count": 17,
   "id": "9383fa54-d821-4449-aea9-13d4ddb4c274",
   "metadata": {},
   "outputs": [
    {
     "data": {
      "text/plain": [
       "count    1937.000000\n",
       "mean     1978.707796\n",
       "std        25.441094\n",
       "min      1895.000000\n",
       "25%      1961.000000\n",
       "50%      1980.000000\n",
       "75%      2002.000000\n",
       "max      2207.000000\n",
       "Name: garage_yr_blt, dtype: float64"
      ]
     },
     "execution_count": 17,
     "metadata": {},
     "output_type": "execute_result"
    }
   ],
   "source": [
    "ames_df['garage_yr_blt'].describe()"
   ]
  },
  {
   "cell_type": "markdown",
   "id": "772c1cd1-a0c7-42e8-91fc-fa64ccac5d1f",
   "metadata": {},
   "source": [
    "Similar to my categorical features, I can assume that NaN values represent **0**. However, exceptions to this are **`garage_yr_blt`** and **`lot_frontage`**, as imputing them with **0** could negatively impact my linear regression model.  \n",
    "\n",
    "To improve **model stability while preserving data integrity**, I will impute **`lot_frontage`** using the **median lot frontage within the same neighborhood** to account for spatial variations. For **`garage_yr_blt`**, instead of replacing NaNs with **0** or **`built_yr`**, I will impute them using the **most common garage year within the same neighborhood**, ensuring a more data-driven approach."
   ]
  },
  {
   "cell_type": "code",
   "execution_count": 18,
   "id": "9579c625-0f38-467e-8b11-b2ebedf5af96",
   "metadata": {},
   "outputs": [],
   "source": [
    "# Replacing NaNs in lot_frontage with neighborhood median. \n",
    "# Some neighborhoods only have NaNs in lot_frontage, in these cases I will use the overall median.\n",
    "\n",
    "ames_df['lot_frontage'] = ames_df.groupby('neighborhood')['lot_frontage'].transform(\n",
    "    lambda x: x.fillna(x.median()) if not x.dropna().empty else ames_df['lot_frontage'].median()\n",
    ")"
   ]
  },
  {
   "cell_type": "code",
   "execution_count": 19,
   "id": "8f2fabf3-eb61-4b65-9cbd-d6050737016b",
   "metadata": {},
   "outputs": [
    {
     "name": "stdout",
     "output_type": "stream",
     "text": [
      "Missing values in 'lot_frontage' (train): 0\n"
     ]
    }
   ],
   "source": [
    "# Verify that there are no more missing values in 'Lot Frontage'\n",
    "print(f\"Missing values in 'lot_frontage' (train): {ames_df['lot_frontage'].isna().sum()}\")  # Should print 0"
   ]
  },
  {
   "cell_type": "code",
   "execution_count": 20,
   "id": "ef3c4c8a-71a7-455f-993a-c7dd93251a8f",
   "metadata": {},
   "outputs": [],
   "source": [
    "# Replacing NaNs in lot_frontage with neighborhood mode\n",
    "\n",
    "ames_df['garage_yr_blt'] = ames_df.groupby('neighborhood')['garage_yr_blt'].transform(\n",
    "    lambda x: x.fillna(x.mode()[0] if not x.mode().empty else ames_df['garage_yr_blt'].median()))"
   ]
  },
  {
   "cell_type": "code",
   "execution_count": 21,
   "id": "96b58d3e-4401-4596-bae4-6c377e3a284a",
   "metadata": {},
   "outputs": [
    {
     "name": "stdout",
     "output_type": "stream",
     "text": [
      "Missing values in 'garage_yr_blt' (train): 0\n"
     ]
    }
   ],
   "source": [
    "# Verify that there are no more missing values in 'Garage Yr Blt'\n",
    "print(f\"Missing values in 'garage_yr_blt' (train): {ames_df['garage_yr_blt'].isna().sum()}\")  # Should print 0"
   ]
  },
  {
   "cell_type": "code",
   "execution_count": 22,
   "id": "94c13739-f7db-4303-aa49-fce72a443607",
   "metadata": {},
   "outputs": [],
   "source": [
    "# Replace NaNs\n",
    "ames_df[numerical_cols] = ames_df[numerical_cols].fillna(0)"
   ]
  },
  {
   "cell_type": "markdown",
   "id": "0b6ba016-cdd3-4821-ac31-c562e90dc302",
   "metadata": {
    "jp-MarkdownHeadingCollapsed": true
   },
   "source": [
    "## **6. Detecting Extreme Outliers**"
   ]
  },
  {
   "cell_type": "markdown",
   "id": "90f678de-238b-46ac-899c-fd29ab00ef48",
   "metadata": {},
   "source": [
    "I will identify highly skewed features and set them aside for later testing to evaluate whether Winsorizing outliers improves model performance."
   ]
  },
  {
   "cell_type": "code",
   "execution_count": 23,
   "id": "3e427dcf-2d99-434c-bacd-8f5de4651da0",
   "metadata": {},
   "outputs": [],
   "source": [
    "numerical_cols = ames_df.select_dtypes(include=['number']).columns"
   ]
  },
  {
   "cell_type": "code",
   "execution_count": 24,
   "id": "064bddfb-cab8-4f00-85b0-3c2af0f6e4f2",
   "metadata": {},
   "outputs": [
    {
     "data": {
      "text/plain": [
       "Index(['id', 'pid', 'ms_subclass', 'lot_frontage', 'lot_area', 'overall_qual',\n",
       "       'overall_cond', 'year_built', 'year_remod_add', 'mas_vnr_area',\n",
       "       'bsmtfin_sf_1', 'bsmtfin_sf_2', 'bsmt_unf_sf', 'total_bsmt_sf',\n",
       "       'first_flr_sf', 'second_flr_sf', 'low_qual_fin_sf', 'gr_liv_area',\n",
       "       'bsmt_full_bath', 'bsmt_half_bath', 'full_bath', 'half_bath',\n",
       "       'bedroom_abvgr', 'kitchen_abvgr', 'totrms_abvgrd', 'fireplaces',\n",
       "       'garage_yr_blt', 'garage_cars', 'garage_area', 'wood_deck_sf',\n",
       "       'open_porch_sf', 'enclosed_porch', 'three_ssn_porch', 'screen_porch',\n",
       "       'pool_area', 'misc_val', 'mo_sold', 'yr_sold', 'sale_price'],\n",
       "      dtype='object')"
      ]
     },
     "execution_count": 24,
     "metadata": {},
     "output_type": "execute_result"
    }
   ],
   "source": [
    "numerical_cols"
   ]
  },
  {
   "cell_type": "code",
   "execution_count": 25,
   "id": "d6a31f8d-209f-480f-bc84-585135fd8527",
   "metadata": {},
   "outputs": [
    {
     "data": {
      "text/plain": [
       "dtype('O')"
      ]
     },
     "execution_count": 25,
     "metadata": {},
     "output_type": "execute_result"
    }
   ],
   "source": [
    "ames_df['ms_subclass'] = ames_df['ms_subclass'].astype(str)\n",
    "ames_df['ms_subclass'].dtypes"
   ]
  },
  {
   "cell_type": "code",
   "execution_count": 26,
   "id": "08501d8e-9b79-465f-b26a-cde259fcb278",
   "metadata": {},
   "outputs": [],
   "source": [
    "numerical_features = ames_df[numerical_cols].copy()\n",
    "numerical_features = numerical_features[['lot_frontage', 'lot_area', 'mas_vnr_area', \n",
    "                                        'bsmtfin_sf_1', 'bsmtfin_sf_2', 'bsmt_unf_sf',\n",
    "                                        'total_bsmt_sf', 'first_flr_sf', 'second_flr_sf',\n",
    "                                        'low_qual_fin_sf', 'gr_liv_area', 'garage_area', 'wood_deck_sf',\n",
    "                                         'open_porch_sf', 'enclosed_porch', 'three_ssn_porch', 'screen_porch', \n",
    "                                        'pool_area', 'misc_val', 'sale_price']]\n"
   ]
  },
  {
   "cell_type": "code",
   "execution_count": 27,
   "id": "6d067376-d707-4889-a7b6-8a25d0bd2a54",
   "metadata": {},
   "outputs": [],
   "source": [
    "def get_highly_skewed_features(df, skew_threshold=2.0):\n",
    "    \"\"\"\n",
    "    Identifies numerical features with high skewness (default >2.0 for extreme outliers).\n",
    "    \n",
    "    Parameters:\n",
    "    df (DataFrame): The dataset\n",
    "    skew_threshold (float): The minimum skewness value to consider as high (default=2.0)\n",
    "    \n",
    "    Returns:\n",
    "    list: A list of feature names with high skewness\n",
    "    \"\"\"\n",
    "    skewness = numerical_features.apply(lambda x: x.skew()).sort_values(ascending=False)  # Compute skewness\n",
    "    high_skew_features = skewness[skewness > skew_threshold].index.tolist()  # Get features exceeding threshold\n",
    "    \n",
    "    return high_skew_features"
   ]
  },
  {
   "cell_type": "code",
   "execution_count": 28,
   "id": "f60fc85a-768b-4837-86ac-eca63d836e77",
   "metadata": {},
   "outputs": [
    {
     "name": "stdout",
     "output_type": "stream",
     "text": [
      "Highly Skewed Features: ['misc_val', 'pool_area', 'three_ssn_porch', 'low_qual_fin_sf', 'lot_area', 'bsmtfin_sf_2', 'screen_porch', 'enclosed_porch', 'mas_vnr_area', 'open_porch_sf', 'wood_deck_sf']\n"
     ]
    }
   ],
   "source": [
    "highly_skewed_features = get_highly_skewed_features(numerical_features)\n",
    "print(\"Highly Skewed Features:\", highly_skewed_features)"
   ]
  },
  {
   "cell_type": "markdown",
   "id": "e1a25d06-ad4b-49c8-bf99-639d809f915b",
   "metadata": {
    "jp-MarkdownHeadingCollapsed": true
   },
   "source": [
    "## **7. Saving Cleaned Data**"
   ]
  },
  {
   "cell_type": "code",
   "execution_count": 29,
   "id": "9c41c7e6-a0b9-47cc-8257-2ffe91ec16da",
   "metadata": {},
   "outputs": [],
   "source": [
    "ames_df.to_csv('../data/clean_data/ames.csv', index=False)"
   ]
  }
 ],
 "metadata": {
  "kernelspec": {
   "display_name": "Python 3",
   "language": "python",
   "name": "python3"
  },
  "language_info": {
   "codemirror_mode": {
    "name": "ipython",
    "version": 3
   },
   "file_extension": ".py",
   "mimetype": "text/x-python",
   "name": "python",
   "nbconvert_exporter": "python",
   "pygments_lexer": "ipython3",
   "version": "3.13.2"
  }
 },
 "nbformat": 4,
 "nbformat_minor": 5
}
